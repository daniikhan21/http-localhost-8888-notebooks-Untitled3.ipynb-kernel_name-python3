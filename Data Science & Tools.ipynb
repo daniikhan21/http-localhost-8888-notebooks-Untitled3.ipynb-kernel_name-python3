{
 "cells": [
  {
   "cell_type": "code",
   "execution_count": 3,
   "id": "262e7b9b",
   "metadata": {},
   "outputs": [],
   "source": [
    "# Title of the NoteBook: Data Science Tools and Techniques"
   ]
  },
  {
   "cell_type": "code",
   "execution_count": 4,
   "id": "30d3f0b7",
   "metadata": {},
   "outputs": [],
   "source": [
    "#Introduction:\n",
    "              # Welcome to this jupyter Notebook, In thish notebook we will explore various data science tools and techniques. Data science is a rapidly evolving field that encompasses a wide range of methodologies, tools, and techniques for extracting insights and knowledge from data."
   ]
  },
  {
   "cell_type": "code",
   "execution_count": 6,
   "id": "f36023c2",
   "metadata": {},
   "outputs": [],
   "source": [
    "# Data Science languages:\n",
    "# 1.Python\n",
    "# 2. R\n",
    "# 3. SQL\n",
    "# 4. Scala\n",
    "# 5. Julia"
   ]
  },
  {
   "cell_type": "code",
   "execution_count": 7,
   "id": "8c9cae97",
   "metadata": {},
   "outputs": [],
   "source": [
    "# Data science libraries:\n",
    "# 1. Pandas\n",
    "# 2. Numpy\n",
    "# 3. Matplotib\n",
    "# 4. Seaborn\n",
    "# 5. Scikit-learn\n",
    "# 6. pytorch"
   ]
  },
  {
   "cell_type": "code",
   "execution_count": 8,
   "id": "cafb59f2",
   "metadata": {},
   "outputs": [],
   "source": [
    "# Data science tools:\n",
    "# Jupyter Notebook:- Interactive computing environment.\n",
    "# Rstudio:- Integrated development environment for R.\n",
    "# Spyder:- Scientific python development environment.\n",
    "# Anaconda Navigator:- Graphical user interface for managing python packages.\n"
   ]
  },
  {
   "cell_type": "code",
   "execution_count": 9,
   "id": "f0cb10cd",
   "metadata": {},
   "outputs": [
    {
     "name": "stdout",
     "output_type": "stream",
     "text": [
      "6\n"
     ]
    }
   ],
   "source": [
    "# Addition\n",
    "a=2\n",
    "b=4\n",
    "c=a+b\n",
    "print(c)"
   ]
  },
  {
   "cell_type": "code",
   "execution_count": 10,
   "id": "a0fde7b8",
   "metadata": {},
   "outputs": [
    {
     "name": "stdout",
     "output_type": "stream",
     "text": [
      "8\n"
     ]
    }
   ],
   "source": [
    "#Multiplication\n",
    "a=2\n",
    "b=4\n",
    "c=a*b\n",
    "print(c)"
   ]
  },
  {
   "cell_type": "code",
   "execution_count": 11,
   "id": "00ebb841",
   "metadata": {},
   "outputs": [
    {
     "name": "stdout",
     "output_type": "stream",
     "text": [
      "-2\n"
     ]
    }
   ],
   "source": [
    "#subtraction\n",
    "a=2\n",
    "b=4\n",
    "c=a-b\n",
    "print(c)"
   ]
  },
  {
   "cell_type": "code",
   "execution_count": 12,
   "id": "e94d6d0d",
   "metadata": {},
   "outputs": [
    {
     "name": "stdout",
     "output_type": "stream",
     "text": [
      "0.5\n"
     ]
    }
   ],
   "source": [
    "# Division\n",
    "a=2\n",
    "b=4\n",
    "c=a/b\n",
    "print(c)"
   ]
  },
  {
   "cell_type": "code",
   "execution_count": 14,
   "id": "11b9499a",
   "metadata": {},
   "outputs": [
    {
     "name": "stdout",
     "output_type": "stream",
     "text": [
      "multiply function 200\n",
      "Add number 30\n"
     ]
    }
   ],
   "source": [
    "# Multiply and add numbers\n",
    "a=10\n",
    "b=20\n",
    "c=a*b\n",
    "print('multiply function', c)\n",
    "\n",
    "d=a+b\n",
    "print('Add number', d)"
   ]
  },
  {
   "cell_type": "code",
   "execution_count": 15,
   "id": "b1141d92",
   "metadata": {},
   "outputs": [
    {
     "name": "stdout",
     "output_type": "stream",
     "text": [
      "Hours 2.0\n"
     ]
    }
   ],
   "source": [
    "#convert minutes to hours\n",
    "minutes=120\n",
    "hours=minutes/60\n",
    "print(\"Hours\", hours)"
   ]
  },
  {
   "cell_type": "code",
   "execution_count": 16,
   "id": "0a4d0f72",
   "metadata": {},
   "outputs": [],
   "source": [
    "#Objectives:\n",
    "# 1. To demonstrate proficieny in using jupyter Notebook.\n",
    "# 2. To showcase knowledge of markdown and code cells.\n",
    "# 3. To present information about data science language, libraries, and tools.\n",
    "# 4. To illusrate basic arthmetic operations using code cells.\n",
    "# 5. To share the notebook via GitHub."
   ]
  },
  {
   "cell_type": "code",
   "execution_count": 17,
   "id": "b76be284",
   "metadata": {},
   "outputs": [],
   "source": [
    "Author= 'Danish Aziz Khan'"
   ]
  },
  {
   "cell_type": "code",
   "execution_count": null,
   "id": "804ad9c0",
   "metadata": {},
   "outputs": [],
   "source": []
  }
 ],
 "metadata": {
  "kernelspec": {
   "display_name": "Python 3 (ipykernel)",
   "language": "python",
   "name": "python3"
  },
  "language_info": {
   "codemirror_mode": {
    "name": "ipython",
    "version": 3
   },
   "file_extension": ".py",
   "mimetype": "text/x-python",
   "name": "python",
   "nbconvert_exporter": "python",
   "pygments_lexer": "ipython3",
   "version": "3.11.5"
  }
 },
 "nbformat": 4,
 "nbformat_minor": 5
}
